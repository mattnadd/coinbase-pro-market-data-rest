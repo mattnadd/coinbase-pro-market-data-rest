{
 "metadata": {
  "language_info": {
   "codemirror_mode": {
    "name": "ipython",
    "version": 3
   },
   "file_extension": ".py",
   "mimetype": "text/x-python",
   "name": "python",
   "nbconvert_exporter": "python",
   "pygments_lexer": "ipython3",
   "version": "3.8.3-final"
  },
  "orig_nbformat": 2,
  "kernelspec": {
   "name": "python3",
   "display_name": "Python 3",
   "language": "python"
  }
 },
 "nbformat": 4,
 "nbformat_minor": 2,
 "cells": [
  {
   "source": [
    "# How to Connect to Coinbase REST API and Display Bitcoin Historic Data?\n",
    "\n",
    "by Nils Ackermann\n",
    "\n",
    "## Introduction\n",
    "\n",
    "In case you want to get started as a crypto investor and you want to take matters into your own hands, it is important that you are able to connect to a currency exchange such as [pro.coinbase.com](https://pro.coinbase.com). This is the essential first step to start data analysis and automation and move into algorithmic trading. In this notebook you will learn the following:\n",
    "\n",
    "- How to connect to the public coinbase.com pro REST API via Python\n",
    "- How to load data from coinbase into Pandas\n",
    "- How to visualize Bitcoin (or any other crypto currency) historic data in Python\n",
    "\n",
    "The example uses Coinbase Pro as an exchange but it should be easily transferable to the other major digital currency exchange [Kraken](https://www.kraken.com). The full pro.coinbase.com documentation can be found [here](https://docs.pro.coinbase.com)."
   ],
   "cell_type": "markdown",
   "metadata": {}
  },
  {
   "source": [
    "## Step 0 - Imports, Libraries and Functions\n",
    "\n",
    "For the example, we need the following python imports:\n",
    "\n",
    "- **Requests:** For connecting to the REST endpoints from Coinbase Pro, we will use [this](http://docs.python-requests.org/en/master/) great HTTP library. Very user friendly. Only a few lines of code to connect via REST. \n",
    "- **Pandas:** For data analysis and manipulation we use [Pandas](https://pandas.pydata.org).\n",
    "- **Json:** We are dealing with json format, therefore let's import it. The documentation is [here](https://docs.python.org/3/library/json.html)\n",
    "- **Datetime:** We are doing some smaller data calculations, therefore we need [Datetime](https://docs.python.org/3/library/datetime.html).\n",
    "- **Matplotlib:** At the end of the notebook, we will visualize some data, therefore we need [this](https://matplotlib.org) library.\n",
    "- **MPL Finance:** Formerly part of matplot lib, the finance module has been deprecated and is now in its own library. You can find more information [here](https://github.com/matplotlib/mplfinance). We use this library to do the financial plotting at the end of the notebook. There is also an older version called mpl-finance. In case you have worked with mpl-finance before, I have also included the code in the backup at the end of the notebook.\n",
    "- **Seaborn:** For a nicer visualization of the plots, we will use [Seaborn](https://seaborn.pydata.org).\n",
    "\n",
    "Since we will reuse some of the code throughout the notebook, we will define one functions first:\n",
    "\n",
    "- connect(url,param): this function takes the URL and optionally the parameters to a REST endpoint as an input\n",
    ". It then returns the response. If an error occurs, an exception is thrown and the error is printed."
   ],
   "cell_type": "markdown",
   "metadata": {}
  },
  {
   "cell_type": "code",
   "execution_count": null,
   "metadata": {},
   "outputs": [],
   "source": [
    "import requests\n",
    "from requests.exceptions import HTTPError\n",
    "import pandas as pd\n",
    "import json as js\n",
    "from datetime import datetime, timedelta\n",
    "from matplotlib import pyplot as plt\n",
    "# Uncomment this if you like to use the old MPL library\n",
    "#from mpl_finance import candlestick_ohlc\n",
    "import mplfinance as mpf\n",
    "import matplotlib.dates as mpl_dates\n",
    "import matplotlib.ticker as tkr\n",
    "%matplotlib inline\n",
    "import seaborn as sns"
   ]
  },
  {
   "cell_type": "code",
   "execution_count": null,
   "metadata": {},
   "outputs": [],
   "source": [
    "# Set some standard parameters upfront\n",
    "pd.options.display.float_format = '{:.1f}'.format\n",
    "sns.set() # default seaborn look and feel\n",
    "plt.style.use('ggplot')\n",
    "REST_API = 'https://api.pro.coinbase.com'\n",
    "PRODUCTS = REST_API+'/products'\n",
    "# I am only interested in a few currencies that I want to trade, so let's add them here:\n",
    "MY_CURRENCIES = ['BTC-EUR','ETH-EUR','LTC-EUR','BCH-EUR'] \n"
   ]
  },
  {
   "cell_type": "code",
   "execution_count": null,
   "metadata": {},
   "outputs": [],
   "source": [
    "def connect(url, *args, **kwargs):\n",
    "    try:\n",
    "        if kwargs.get('param', None) is not None:\n",
    "            response = requests.get(url,params)\n",
    "        else:\n",
    "            response = requests.get(url)\n",
    "        response.raise_for_status()\n",
    "        #print('HTTP connection success!')\n",
    "        return response\n",
    "    except HTTPError as http_err:\n",
    "        print(f'HTTP error occurred: {http_err}')\n",
    "    except Exception as err:\n",
    "        print(f'Other error occurred: {err}')"
   ]
  },
  {
   "source": [
    "## Step 1 - Connect to REST Endpoint\n",
    "\n",
    "Connect to the Coinbase REST endpoint (/products) to retrieve all products that are currently available for trading on Coinbase Pro. We are using a try / except block in the function defined above to react to potential connectivity issues."
   ],
   "cell_type": "markdown",
   "metadata": {}
  },
  {
   "cell_type": "code",
   "execution_count": null,
   "metadata": {},
   "outputs": [],
   "source": [
    "response = connect(PRODUCTS)\n",
    "response_content = response.content\n",
    "response_text = response.text\n",
    "response_headers = response.headers"
   ]
  },
  {
   "source": [
    "## Step 2 - Get Basic Currency Information\n",
    "\n",
    "Let's print some basic information about the currencies that I have downselected above: Bitcoin, Ethereum, Litecoin and Bitcoin Cash."
   ],
   "cell_type": "markdown",
   "metadata": {}
  },
  {
   "cell_type": "code",
   "execution_count": null,
   "metadata": {
    "tags": []
   },
   "outputs": [],
   "source": [
    "df_currencies = pd.read_json (response_text)\n",
    "print(\"\\nNumber of columns in the dataframe: %i\" % (df_currencies.shape[1]))\n",
    "print(\"Number of rows in the dataframe: %i\\n\" % (df_currencies.shape[0]))\n",
    "columns = list(df_currencies.columns)\n",
    "print(columns)\n",
    "print() \n",
    "print(df_currencies[df_currencies.id.isin(MY_CURRENCIES)][['id', 'quote_currency', 'base_min_size', 'base_max_size']].head(5))"
   ]
  },
  {
   "source": [
    "## Step 3 - Get More Statistics\n",
    "\n",
    "Ok - great. We see that we are able to connect to the Coinbase Pro API with only a few lines of code. Next, we are interested in what has happened over the last 24 hours for each of our favorite currency:\n",
    "- Open: the opening value in EUR\n",
    "- High: the highest price in EUR\n",
    "- Low: the lowest price in EUR\n",
    "- Last: the current price in EUR\n",
    "- Volume: volume of trades"
   ],
   "cell_type": "markdown",
   "metadata": {}
  },
  {
   "cell_type": "code",
   "execution_count": null,
   "metadata": {},
   "outputs": [],
   "source": [
    "currency_rows = []\n",
    "for currency in MY_CURRENCIES:\n",
    "    response = connect(PRODUCTS+'/'+currency+'/stats')\n",
    "    response_content = response.content\n",
    "    data = js.loads(response_content.decode('utf-8'))\n",
    "    currency_rows.append(data)\n",
    "# Create dataframe and set row index as currency name\n",
    "df_statistics = pd.DataFrame(currency_rows, index = MY_CURRENCIES)\n",
    "print(df_statistics)"
   ]
  },
  {
   "source": [
    "## Step 4: Drill Down Into Bitcoin Historic Data\n",
    "\n",
    "We now want to find out how the price has developed over the last 90 days. We will use Bitcoin as an example. For now, a simple table view of the data is good enough for us. "
   ],
   "cell_type": "markdown",
   "metadata": {}
  },
  {
   "cell_type": "code",
   "execution_count": null,
   "metadata": {},
   "outputs": [],
   "source": [
    "start_date = (datetime.today() - timedelta(days=90)).isoformat()\n",
    "end_date = datetime.now().isoformat()\n",
    "# Please refer to the coinbase documentation on the expected parameters\n",
    "params = {'start':start_date, 'end':end_date, 'granularity':'86400'}\n",
    "response = connect(PRODUCTS+'/BTC-EUR/candles', param = params)\n",
    "response_text = response.text\n",
    "df_history = pd.read_json(response_text)\n",
    "# Add column names in line with the Coinbase Pro documentation\n",
    "df_history.columns = ['time','low','high','open','close','volume']\n"
   ]
  },
  {
   "cell_type": "code",
   "execution_count": null,
   "metadata": {},
   "outputs": [],
   "source": [
    "# We will add a few more columns just for better readability\n",
    "df_history['date'] = pd.to_datetime(df_history['time'], unit='s')\n",
    "df_history['year'] = pd.DatetimeIndex(df_history['date']).year\n",
    "df_history['month'] = pd.DatetimeIndex(df_history['date']).month\n",
    "df_history['day'] = pd.DatetimeIndex(df_history['date']).day\n",
    "# Only display the first 5 rows\n",
    "df_history.head(5).drop(['time','date'], axis=1)"
   ]
  },
  {
   "source": [
    "## Step 5 - Candlestick Chart\n",
    "\n",
    "As the final step, let's view the data as a candlestick chart. As a bonus, the chart is also enhanced with the moving average and the total volume traded within each time slice. And all of this with only a few lines of code. How great is that!"
   ],
   "cell_type": "markdown",
   "metadata": {}
  },
  {
   "cell_type": "code",
   "execution_count": null,
   "metadata": {},
   "outputs": [],
   "source": [
    "# Make a copy of the original dataframe\n",
    "df_ohlc = df_history\n",
    "# Remove unnecessary columns and only show the last 30 days\n",
    "df_ohlc = df_ohlc.drop(['time','year','month','day'], axis = 1).head(30)\n",
    "# Columns must be in a specific order for the candlestick chart (OHLC)\n",
    "df_ohlc = df_ohlc[['date', 'open', 'high', 'low', 'close','volume']]\n",
    "# Index must be set as the date\n",
    "df_ohlc.set_index('date', inplace=True)\n",
    "# Inverse order is expected so let's reverse the rows in the dataframe\n",
    "df_ohlc = df_ohlc[::-1]\n",
    "mpf.plot(df_ohlc,type='candle',mav=(3,6,9),volume=True)"
   ]
  },
  {
   "source": [
    "## Wrap Up\n",
    "\n",
    "You made it to the end of the notebook. Thanks a lot for taking the time to go through the code. Maybe the fire is ignited and you will start coding your own solution on top of the great digital currency APIs out there. \n",
    "\n",
    "Go build!"
   ],
   "cell_type": "markdown",
   "metadata": {}
  },
  {
   "source": [
    "## Backup - Previous MLP_Finance Library\n",
    "\n",
    "In case you are still familiar with the older mlp_finance library, you could also use the following code. Don't forget to uncomment the import statement at the beginning of the notebook."
   ],
   "cell_type": "markdown",
   "metadata": {}
  },
  {
   "cell_type": "code",
   "execution_count": null,
   "metadata": {},
   "outputs": [],
   "source": [
    "# Make a copy of the original dataframe\n",
    "df_ohlc = df_history\n",
    "# Remove unnecessary columns and only show the last 30 days\n",
    "df_ohlc = df_ohlc.drop(['volume','time','year','month','day'], axis = 1).head(30)\n",
    "# Columns must be in a specific order for the candlestick chart (OHLC)\n",
    "df_ohlc = df_ohlc[['date', 'open', 'high', 'low', 'close']]\n",
    "# Date must also be in a specific format for MPL\n",
    "df_ohlc['date'] = df_ohlc['date'].apply(mpl_dates.date2num)\n",
    "df_ohlc = df_ohlc.astype(float)\n",
    "# Add simple moving average for 5 days\n",
    "df_ohlc['SMA5'] = df_ohlc['close'].rolling(5).mean()"
   ]
  },
  {
   "cell_type": "code",
   "execution_count": null,
   "metadata": {},
   "outputs": [],
   "source": [
    "# Create the candlestick chart\n",
    "fig, ax = plt.subplots()\n",
    "fig.set_figheight(6)\n",
    "fig.set_figwidth(8)\n",
    "candlestick_ohlc(ax, df_ohlc.values, width=0.5, colorup='green', colordown='red')\n",
    "ax.plot(df_ohlc['date'], df_ohlc['SMA5'], color='blue', label='SMA5')\n",
    "\n",
    "# Set chart title and labels\n",
    "ax.set_xlabel('Date')\n",
    "ax.set_ylabel('Price (EUR)')\n",
    "fig.suptitle('Bitcoin - Daily Candlestick Chart')\n",
    "\n",
    "# Format date on x axis and number on y axis\n",
    "date_format = mpl_dates.DateFormatter('%m-%d-%Y')\n",
    "ax.xaxis.set_major_formatter(date_format)\n",
    "ax.yaxis.set_major_formatter(tkr.FuncFormatter(lambda x, p: format(int(x), ',')))\n",
    "\n",
    "plt.legend()\n",
    "\n",
    "plt.show()"
   ]
  },
  {
   "cell_type": "code",
   "execution_count": null,
   "metadata": {},
   "outputs": [],
   "source": []
  }
 ]
}