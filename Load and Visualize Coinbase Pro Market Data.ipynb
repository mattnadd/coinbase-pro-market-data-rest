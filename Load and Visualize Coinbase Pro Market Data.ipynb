{
 "cells": [
  {
   "cell_type": "markdown",
   "metadata": {},
   "source": [
    "# How to Connect to Coinbase REST API and Display Bitcoin Historic Data?\n",
    "\n",
    "by Nils Ackermann\n",
    "\n",
    "## Introduction\n",
    "\n",
    "In case you want to get started as a crypto investor and you want to take matters into your own hands, it is important that you are able to connect to a currency exchange such as [pro.coinbase.com](https://pro.coinbase.com). This is the essential first step to start data analysis and automation and move into algorithmic trading. In this notebook you will learn the following:\n",
    "\n",
    "- How to connect to the public coinbase.com pro REST API via Python\n",
    "- How to load data from coinbase into Pandas\n",
    "- How to visualize Bitcoin (or any other crypto currency) historic data in Python\n",
    "\n",
    "The example uses Coinbase Pro as an exchange but it should be easily transferable to the other major digital currency exchange [Kraken](https://www.kraken.com). The full pro.coinbase.com documentation can be found [here](https://docs.pro.coinbase.com)."
   ]
  },
  {
   "cell_type": "markdown",
   "metadata": {},
   "source": [
    "## Step 0 - Imports, Libraries and Functions\n",
    "\n",
    "For the example, we need the following python imports:\n",
    "\n",
    "- **Requests:** For connecting to the REST endpoints from Coinbase Pro, we will use [this](http://docs.python-requests.org/en/master/) great HTTP library. Very user friendly. Only a few lines of code to connect via REST. \n",
    "- **Pandas:** For data analysis and manipulation we use [Pandas](https://pandas.pydata.org).\n",
    "- **Json:** We are dealing with json format, therefore let's import it. The documentation is [here](https://docs.python.org/3/library/json.html)\n",
    "- **Datetime:** We are doing some smaller data calculations, therefore we need [Datetime](https://docs.python.org/3/library/datetime.html).\n",
    "- **Matplotlib:** At the end of the notebook, we will visualize some data, therefore we need [this](https://matplotlib.org) library.\n",
    "- **MPL Finance:** Formerly part of matplot lib, the finance module has been deprecated and is now in its own library. You can find more information [here](https://github.com/matplotlib/mplfinance). We use this library to do the financial plotting at the end of the notebook. There is also an older version called mpl-finance. In case you have worked with mpl-finance before, I have also included the code in the backup at the end of the notebook.\n",
    "- **Seaborn:** For a nicer visualization of the plots, we will use [Seaborn](https://seaborn.pydata.org).\n",
    "\n",
    "Since we will reuse some of the code throughout the notebook, we will define one functions first:\n",
    "\n",
    "- connect(url,param): this function takes the URL and optionally the parameters to a REST endpoint as an input\n",
    ". It then returns the response. If an error occurs, an exception is thrown and the error is printed."
   ]
  },
  {
   "cell_type": "code",
   "execution_count": 1,
   "metadata": {},
   "outputs": [],
   "source": [
    "import requests\n",
    "from requests.exceptions import HTTPError\n",
    "import pandas as pd\n",
    "import json as js\n",
    "from datetime import datetime, timedelta\n",
    "from matplotlib import pyplot as plt\n",
    "# Uncomment this if you like to use the old MPL library\n",
    "#from mpl_finance import candlestick_ohlc\n",
    "import mplfinance as mpf\n",
    "import matplotlib.dates as mpl_dates\n",
    "import matplotlib.ticker as tkr\n",
    "%matplotlib inline\n",
    "import seaborn as sns"
   ]
  },
  {
   "cell_type": "code",
   "execution_count": 42,
   "metadata": {},
   "outputs": [],
   "source": [
    "# Set some standard parameters upfront\n",
    "pd.options.display.float_format = '{:.1f}'.format\n",
    "sns.set() # default seaborn look and feel\n",
    "plt.style.use('ggplot')\n",
    "REST_API = 'https://api.pro.coinbase.com'\n",
    "PRODUCTS = REST_API+'/products'\n",
    "# I am only interested in a few currencies that I want to trade, so let's add them here:\n",
    "MY_CURRENCIES = ['BTC-EUR','ETH-EUR','LTC-EUR','BCH-EUR'] \n"
   ]
  },
  {
   "cell_type": "code",
   "execution_count": 43,
   "metadata": {},
   "outputs": [],
   "source": [
    "def connect(url, *args, **kwargs):\n",
    "    try:\n",
    "        if kwargs.get('param', None) is not None:\n",
    "            response = requests.get(url,params)\n",
    "        else:\n",
    "            response = requests.get(url)\n",
    "        response.raise_for_status()\n",
    "        #print('HTTP connection success!')\n",
    "        return response\n",
    "    except HTTPError as http_err:\n",
    "        print(f'HTTP error occurred: {http_err}')\n",
    "    except Exception as err:\n",
    "        print(f'Other error occurred: {err}')"
   ]
  },
  {
   "cell_type": "markdown",
   "metadata": {},
   "source": [
    "## Step 1 - Connect to REST Endpoint\n",
    "\n",
    "Connect to the Coinbase REST endpoint (/products) to retrieve all products that are currently available for trading on Coinbase Pro. We are using a try / except block in the function defined above to react to potential connectivity issues."
   ]
  },
  {
   "cell_type": "code",
   "execution_count": 44,
   "metadata": {},
   "outputs": [],
   "source": [
    "response = connect(PRODUCTS)\n",
    "response_content = response.content\n",
    "response_text = response.text\n",
    "response_headers = response.headers"
   ]
  },
  {
   "cell_type": "markdown",
   "metadata": {},
   "source": [
    "## Step 2 - Get Basic Currency Information\n",
    "\n",
    "Let's print some basic information about the currencies that I have downselected above: Bitcoin, Ethereum, Litecoin and Bitcoin Cash."
   ]
  },
  {
   "cell_type": "code",
   "execution_count": 45,
   "metadata": {
    "tags": []
   },
   "outputs": [
    {
     "name": "stdout",
     "output_type": "stream",
     "text": [
      "\n",
      "Number of columns in the dataframe: 19\n",
      "Number of rows in the dataframe: 287\n",
      "\n",
      "['id', 'base_currency', 'quote_currency', 'base_min_size', 'base_max_size', 'quote_increment', 'base_increment', 'display_name', 'min_market_funds', 'max_market_funds', 'margin_enabled', 'fx_stablecoin', 'max_slippage_percentage', 'post_only', 'limit_only', 'cancel_only', 'trading_disabled', 'status', 'status_message']\n",
      "\n"
     ]
    },
    {
     "data": {
      "text/html": [
       "<div>\n",
       "<style scoped>\n",
       "    .dataframe tbody tr th:only-of-type {\n",
       "        vertical-align: middle;\n",
       "    }\n",
       "\n",
       "    .dataframe tbody tr th {\n",
       "        vertical-align: top;\n",
       "    }\n",
       "\n",
       "    .dataframe thead th {\n",
       "        text-align: right;\n",
       "    }\n",
       "</style>\n",
       "<table border=\"1\" class=\"dataframe\">\n",
       "  <thead>\n",
       "    <tr style=\"text-align: right;\">\n",
       "      <th></th>\n",
       "      <th>id</th>\n",
       "      <th>quote_currency</th>\n",
       "      <th>base_min_size</th>\n",
       "      <th>base_max_size</th>\n",
       "    </tr>\n",
       "  </thead>\n",
       "  <tbody>\n",
       "    <tr>\n",
       "      <th>51</th>\n",
       "      <td>BCH-EUR</td>\n",
       "      <td>EUR</td>\n",
       "      <td>0.0</td>\n",
       "      <td>400.0</td>\n",
       "    </tr>\n",
       "    <tr>\n",
       "      <th>61</th>\n",
       "      <td>LTC-EUR</td>\n",
       "      <td>EUR</td>\n",
       "      <td>0.0</td>\n",
       "      <td>1000.0</td>\n",
       "    </tr>\n",
       "    <tr>\n",
       "      <th>73</th>\n",
       "      <td>BTC-EUR</td>\n",
       "      <td>EUR</td>\n",
       "      <td>0.0</td>\n",
       "      <td>200.0</td>\n",
       "    </tr>\n",
       "    <tr>\n",
       "      <th>122</th>\n",
       "      <td>ETH-EUR</td>\n",
       "      <td>EUR</td>\n",
       "      <td>0.0</td>\n",
       "      <td>1600.0</td>\n",
       "    </tr>\n",
       "  </tbody>\n",
       "</table>\n",
       "</div>"
      ],
      "text/plain": [
       "          id quote_currency  base_min_size  base_max_size\n",
       "51   BCH-EUR            EUR            0.0          400.0\n",
       "61   LTC-EUR            EUR            0.0         1000.0\n",
       "73   BTC-EUR            EUR            0.0          200.0\n",
       "122  ETH-EUR            EUR            0.0         1600.0"
      ]
     },
     "execution_count": 45,
     "metadata": {},
     "output_type": "execute_result"
    }
   ],
   "source": [
    "df_currencies = pd.read_json (response_text)\n",
    "print(\"\\nNumber of columns in the dataframe: %i\" % (df_currencies.shape[1]))\n",
    "print(\"Number of rows in the dataframe: %i\\n\" % (df_currencies.shape[0]))\n",
    "columns = list(df_currencies.columns)\n",
    "print(columns)\n",
    "print() \n",
    "df_currencies[df_currencies.id.isin(MY_CURRENCIES)][['id', 'quote_currency', 'base_min_size', 'base_max_size']].head(5)"
   ]
  },
  {
   "cell_type": "markdown",
   "metadata": {},
   "source": [
    "## Step 3 - Get More Statistics\n",
    "\n",
    "Ok - great. We see that we are able to connect to the Coinbase Pro API with only a few lines of code. Next, we are interested in what has happened over the last 24 hours for each of our favorite currency:\n",
    "- Open: the opening value in EUR\n",
    "- High: the highest price in EUR\n",
    "- Low: the lowest price in EUR\n",
    "- Last: the current price in EUR\n",
    "- Volume: volume of trades"
   ]
  },
  {
   "cell_type": "code",
   "execution_count": 46,
   "metadata": {
    "tags": []
   },
   "outputs": [
    {
     "data": {
      "text/html": [
       "<div>\n",
       "<style scoped>\n",
       "    .dataframe tbody tr th:only-of-type {\n",
       "        vertical-align: middle;\n",
       "    }\n",
       "\n",
       "    .dataframe tbody tr th {\n",
       "        vertical-align: top;\n",
       "    }\n",
       "\n",
       "    .dataframe thead th {\n",
       "        text-align: right;\n",
       "    }\n",
       "</style>\n",
       "<table border=\"1\" class=\"dataframe\">\n",
       "  <thead>\n",
       "    <tr style=\"text-align: right;\">\n",
       "      <th></th>\n",
       "      <th>open</th>\n",
       "      <th>high</th>\n",
       "      <th>low</th>\n",
       "      <th>volume</th>\n",
       "      <th>last</th>\n",
       "      <th>volume_30day</th>\n",
       "    </tr>\n",
       "  </thead>\n",
       "  <tbody>\n",
       "    <tr>\n",
       "      <th>BTC-EUR</th>\n",
       "      <td>42285.03</td>\n",
       "      <td>42440.99</td>\n",
       "      <td>41601.01</td>\n",
       "      <td>837.9700545</td>\n",
       "      <td>42220</td>\n",
       "      <td>40262.82893925</td>\n",
       "    </tr>\n",
       "    <tr>\n",
       "      <th>ETH-EUR</th>\n",
       "      <td>3294.88</td>\n",
       "      <td>3332.84</td>\n",
       "      <td>3227.41</td>\n",
       "      <td>13785.42659252</td>\n",
       "      <td>3311.64</td>\n",
       "      <td>611122.70305047</td>\n",
       "    </tr>\n",
       "    <tr>\n",
       "      <th>LTC-EUR</th>\n",
       "      <td>185.18</td>\n",
       "      <td>192.1</td>\n",
       "      <td>175.96</td>\n",
       "      <td>101316.0214422</td>\n",
       "      <td>189.1</td>\n",
       "      <td>1087881.27491074</td>\n",
       "    </tr>\n",
       "    <tr>\n",
       "      <th>BCH-EUR</th>\n",
       "      <td>598.22</td>\n",
       "      <td>613.56</td>\n",
       "      <td>588.31</td>\n",
       "      <td>9259.72398339</td>\n",
       "      <td>611.4</td>\n",
       "      <td>116339.95087908</td>\n",
       "    </tr>\n",
       "  </tbody>\n",
       "</table>\n",
       "</div>"
      ],
      "text/plain": [
       "             open      high       low          volume     last  \\\n",
       "BTC-EUR  42285.03  42440.99  41601.01     837.9700545    42220   \n",
       "ETH-EUR   3294.88   3332.84   3227.41  13785.42659252  3311.64   \n",
       "LTC-EUR    185.18     192.1    175.96  101316.0214422    189.1   \n",
       "BCH-EUR    598.22    613.56    588.31   9259.72398339    611.4   \n",
       "\n",
       "             volume_30day  \n",
       "BTC-EUR    40262.82893925  \n",
       "ETH-EUR   611122.70305047  \n",
       "LTC-EUR  1087881.27491074  \n",
       "BCH-EUR   116339.95087908  "
      ]
     },
     "execution_count": 46,
     "metadata": {},
     "output_type": "execute_result"
    }
   ],
   "source": [
    "currency_rows = []\n",
    "for currency in MY_CURRENCIES:\n",
    "    response = connect(PRODUCTS+'/'+currency+'/stats')\n",
    "    response_content = response.content\n",
    "    data = js.loads(response_content.decode('utf-8'))\n",
    "    currency_rows.append(data)\n",
    "# Create dataframe and set row index as currency name\n",
    "df_statistics = pd.DataFrame(currency_rows, index = MY_CURRENCIES)\n",
    "df_statistics"
   ]
  },
  {
   "cell_type": "markdown",
   "metadata": {},
   "source": [
    "## Step 4: Drill Down Into Bitcoin Historic Data\n",
    "\n",
    "We now want to find out how the price has developed over the last 90 days. We will use Bitcoin as an example. For now, a simple table view of the data is good enough for us. "
   ]
  },
  {
   "cell_type": "code",
   "execution_count": 47,
   "metadata": {},
   "outputs": [],
   "source": [
    "start_date = (datetime.today() - timedelta(days=90)).isoformat()\n",
    "end_date = datetime.now().isoformat()\n",
    "# Please refer to the coinbase documentation on the expected parameters\n",
    "params = {'start':start_date, 'end':end_date, 'granularity':'86400'}\n",
    "response = connect(PRODUCTS+'/ADA-USD/candles', param = params)\n",
    "response_text = response.text\n",
    "df_history = pd.read_json(response_text)\n",
    "# Add column names in line with the Coinbase Pro documentation\n",
    "df_history.columns = ['time','low','high','open','close','volume']\n"
   ]
  },
  {
   "cell_type": "code",
   "execution_count": 48,
   "metadata": {},
   "outputs": [
    {
     "data": {
      "text/html": [
       "<div>\n",
       "<style scoped>\n",
       "    .dataframe tbody tr th:only-of-type {\n",
       "        vertical-align: middle;\n",
       "    }\n",
       "\n",
       "    .dataframe tbody tr th {\n",
       "        vertical-align: top;\n",
       "    }\n",
       "\n",
       "    .dataframe thead th {\n",
       "        text-align: right;\n",
       "    }\n",
       "</style>\n",
       "<table border=\"1\" class=\"dataframe\">\n",
       "  <thead>\n",
       "    <tr style=\"text-align: right;\">\n",
       "      <th></th>\n",
       "      <th>low</th>\n",
       "      <th>high</th>\n",
       "      <th>open</th>\n",
       "      <th>close</th>\n",
       "      <th>volume</th>\n",
       "      <th>year</th>\n",
       "      <th>month</th>\n",
       "      <th>day</th>\n",
       "    </tr>\n",
       "  </thead>\n",
       "  <tbody>\n",
       "    <tr>\n",
       "      <th>0</th>\n",
       "      <td>2.8</td>\n",
       "      <td>2.9</td>\n",
       "      <td>2.8</td>\n",
       "      <td>2.9</td>\n",
       "      <td>34330815.5</td>\n",
       "      <td>2021</td>\n",
       "      <td>9</td>\n",
       "      <td>5</td>\n",
       "    </tr>\n",
       "    <tr>\n",
       "      <th>1</th>\n",
       "      <td>2.8</td>\n",
       "      <td>3.0</td>\n",
       "      <td>3.0</td>\n",
       "      <td>2.8</td>\n",
       "      <td>94616818.9</td>\n",
       "      <td>2021</td>\n",
       "      <td>9</td>\n",
       "      <td>4</td>\n",
       "    </tr>\n",
       "    <tr>\n",
       "      <th>2</th>\n",
       "      <td>2.9</td>\n",
       "      <td>3.0</td>\n",
       "      <td>3.0</td>\n",
       "      <td>3.0</td>\n",
       "      <td>108852651.3</td>\n",
       "      <td>2021</td>\n",
       "      <td>9</td>\n",
       "      <td>3</td>\n",
       "    </tr>\n",
       "    <tr>\n",
       "      <th>3</th>\n",
       "      <td>2.8</td>\n",
       "      <td>3.1</td>\n",
       "      <td>2.9</td>\n",
       "      <td>3.0</td>\n",
       "      <td>174814779.0</td>\n",
       "      <td>2021</td>\n",
       "      <td>9</td>\n",
       "      <td>2</td>\n",
       "    </tr>\n",
       "    <tr>\n",
       "      <th>4</th>\n",
       "      <td>2.7</td>\n",
       "      <td>2.9</td>\n",
       "      <td>2.8</td>\n",
       "      <td>2.9</td>\n",
       "      <td>93378811.0</td>\n",
       "      <td>2021</td>\n",
       "      <td>9</td>\n",
       "      <td>1</td>\n",
       "    </tr>\n",
       "  </tbody>\n",
       "</table>\n",
       "</div>"
      ],
      "text/plain": [
       "   low  high  open  close      volume  year  month  day\n",
       "0  2.8   2.9   2.8    2.9  34330815.5  2021      9    5\n",
       "1  2.8   3.0   3.0    2.8  94616818.9  2021      9    4\n",
       "2  2.9   3.0   3.0    3.0 108852651.3  2021      9    3\n",
       "3  2.8   3.1   2.9    3.0 174814779.0  2021      9    2\n",
       "4  2.7   2.9   2.8    2.9  93378811.0  2021      9    1"
      ]
     },
     "execution_count": 48,
     "metadata": {},
     "output_type": "execute_result"
    }
   ],
   "source": [
    "# We will add a few more columns just for better readability\n",
    "df_history['date'] = pd.to_datetime(df_history['time'], unit='s')\n",
    "df_history['year'] = pd.DatetimeIndex(df_history['date']).year\n",
    "df_history['month'] = pd.DatetimeIndex(df_history['date']).month\n",
    "df_history['day'] = pd.DatetimeIndex(df_history['date']).day\n",
    "# Only display the first 5 rows\n",
    "df_history.head(5).drop(['time','date'], axis=1)"
   ]
  },
  {
   "cell_type": "markdown",
   "metadata": {},
   "source": [
    "## Step 5 - Candlestick Chart\n",
    "\n",
    "As the final step, let's view the data as a candlestick chart. As a bonus, the chart is also enhanced with the moving average and the total volume traded within each time slice. And all of this with only a few lines of code. How great is that!"
   ]
  },
  {
   "cell_type": "code",
   "execution_count": 49,
   "metadata": {},
   "outputs": [
    {
     "data": {
      "image/png": "[encoded data removed]",
      "text/plain": [
       "<Figure size 800x575 with 4 Axes>"
      ]
     },
     "metadata": {},
     "output_type": "display_data"
    }
   ],
   "source": [
    "# Make a copy of the original dataframe\n",
    "df_ohlc = df_history\n",
    "# Remove unnecessary columns and only show the last 30 days\n",
    "df_ohlc = df_ohlc.drop(['time','year','month','day'], axis = 1).head(30)\n",
    "# Columns must be in a specific order for the candlestick chart (OHLC)\n",
    "df_ohlc = df_ohlc[['date', 'open', 'high', 'low', 'close','volume']]\n",
    "# Index must be set as the date\n",
    "df_ohlc.set_index('date', inplace=True)\n",
    "# Inverse order is expected so let's reverse the rows in the dataframe\n",
    "df_ohlc = df_ohlc[::-1]\n",
    "mpf.plot(df_ohlc,type='candle',mav=(3,6,9),volume=True)"
   ]
  },
  {
   "cell_type": "markdown",
   "metadata": {},
   "source": [
    "## Wrap Up\n",
    "\n",
    "You made it to the end of the notebook. Thanks a lot for taking the time to go through the code. Maybe the fire is ignited and you will start coding your own solution on top of the great digital currency APIs out there. \n",
    "\n",
    "Go build!"
   ]
  },
  {
   "cell_type": "code",
   "execution_count": null,
   "metadata": {},
   "outputs": [],
   "source": []
  }
 ],
 "metadata": {
  "kernelspec": {
   "display_name": "Python 3",
   "language": "python",
   "name": "python3"
  },
  "language_info": {
   "codemirror_mode": {
    "name": "ipython",
    "version": 3
   },
   "file_extension": ".py",
   "mimetype": "text/x-python",
   "name": "python",
   "nbconvert_exporter": "python",
   "pygments_lexer": "ipython3",
   "version": "3.8.10"
  }
 },
 "nbformat": 4,
 "nbformat_minor": 4
}
